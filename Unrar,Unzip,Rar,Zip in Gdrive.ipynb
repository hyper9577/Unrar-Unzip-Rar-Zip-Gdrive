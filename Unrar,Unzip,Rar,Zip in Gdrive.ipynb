{
  "nbformat": 4,
  "nbformat_minor": 0,
  "metadata": {
    "colab": {
      "name": "Unrar, Unzip, Rar, Zip in Gdrive.ipynb",
      "provenance": [],
      "include_colab_link": true
    },
    "kernelspec": {
      "name": "python3",
      "display_name": "Python 3"
    },
    "accelerator": "TPU"
  },
  "cells": [
    {
      "cell_type": "markdown",
      "metadata": {
        "id": "view-in-github",
        "colab_type": "text"
      },
      "source": [
        "<a href=\"https://colab.research.google.com/github/hyper9577/Unrar-Unzip-Rar-Zip-Gdrive/blob/master/Unrar%2CUnzip%2CRar%2CZip%20in%20Gdrive.ipynb\" target=\"_parent\"><img src=\"https://colab.research.google.com/assets/colab-badge.svg\" alt=\"Open In Colab\"/></a>"
      ]
    },
    {
      "cell_type": "markdown",
      "metadata": {
        "id": "tdHkmd6olkGV",
        "colab_type": "text"
      },
      "source": [
        "# **Unrar, Unzip, Rar, Zip in Gdrive**\n",
        "\n",
        "---\n",
        "---\n",
        "\n",
        "\n",
        "\n"
      ]
    },
    {
      "cell_type": "markdown",
      "metadata": {
        "id": "CFFPQjl-iX0m",
        "colab_type": "text"
      },
      "source": [
        "# **STEP 1 - First Mount your Google Drive**\n",
        "\n",
        "\n",
        "---\n",
        "\n",
        "<img src=\"https://i.ibb.co/yPqB75v/output-onlinepngtools.png\" alt=\"output-onlinepngtools\" border=\"0\">\n",
        "\n"
      ]
    },
    {
      "cell_type": "code",
      "metadata": {
        "id": "TfWtGXmqbggL",
        "colab_type": "code",
        "colab": {}
      },
      "source": [
        "from google.colab import drive\n",
        "drive.mount('/content/drive')"
      ],
      "execution_count": 0,
      "outputs": []
    },
    {
      "cell_type": "markdown",
      "metadata": {
        "id": "IoAshgcf45gs",
        "colab_type": "text"
      },
      "source": [
        "# **<font size=\"10\"><center>UNRAR/UNZIP Your Files</center>**</font>\n",
        "\n",
        "---\n",
        "\n",
        "\n",
        "\n",
        "---\n",
        "\n",
        "\n",
        "\n"
      ]
    },
    {
      "cell_type": "markdown",
      "metadata": {
        "id": "yR8YTqYHioZ-",
        "colab_type": "text"
      },
      "source": [
        "# **STEP 2 - Run the below Cell to Unrar a .rar file**\n",
        "\n",
        "\n",
        "---\n",
        "<img src=\"https://i.ibb.co/tK5Jhxs/output-onlinepngtools.png\" alt=\"output-onlinepngtools\" border=\"0\">"
      ]
    },
    {
      "cell_type": "markdown",
      "metadata": {
        "id": "Z1Ql6FiDdBYW",
        "colab_type": "text"
      },
      "source": [
        "*   First path in below cell - Your Google Drive file location which you want to Unrar\n",
        "*   Second path in below cell - Path where you want to extract the rar file in Google Drive\n",
        "\n"
      ]
    },
    {
      "cell_type": "code",
      "metadata": {
        "id": "5ScZvnCdzKm3",
        "colab_type": "code",
        "colab": {}
      },
      "source": [
        "!unrar x \"/content/drive/My Drive/Test.rar\" \"/content/drive/My Drive/\""
      ],
      "execution_count": 0,
      "outputs": []
    },
    {
      "cell_type": "markdown",
      "metadata": {
        "id": "CB5HnyE6kzqS",
        "colab_type": "text"
      },
      "source": [
        "\n",
        "\n",
        "---\n",
        "\n",
        "\n",
        "\n",
        "---\n",
        "\n",
        "\n",
        "\n",
        "---\n",
        "\n"
      ]
    },
    {
      "cell_type": "markdown",
      "metadata": {
        "colab_type": "text",
        "id": "hi4f8Ba-diVf"
      },
      "source": [
        "# **STEP 2 - Run the below cell to Unzip a .zip file**\n",
        "\n",
        "\n",
        "---\n",
        "<img src=\"https://i.ibb.co/Dg66pDB/156361082210525933.png\" alt=\"156361082210525933\" border=\"0\">"
      ]
    },
    {
      "cell_type": "markdown",
      "metadata": {
        "colab_type": "text",
        "id": "zfBuL9j1v4KC"
      },
      "source": [
        "*   First path in below cell - Your Google Drive file location which you want to Unzip\n",
        "*   Second path in below cell - Path where you want to extract the zip file in Google Drive\n",
        "\n"
      ]
    },
    {
      "cell_type": "code",
      "metadata": {
        "colab_type": "code",
        "id": "O1_kc7HBeslm",
        "colab": {}
      },
      "source": [
        "!unzip \"/content/drive/My Drive/Test.zip\" -d \"/content/drive/My Drive/\""
      ],
      "execution_count": 0,
      "outputs": []
    },
    {
      "cell_type": "markdown",
      "metadata": {
        "colab_type": "text",
        "id": "V6d29qqgwXTW"
      },
      "source": [
        "\n",
        "\n",
        "---\n",
        "\n",
        "\n",
        "\n",
        "---\n",
        "\n",
        "\n",
        "\n",
        "---\n",
        "\n"
      ]
    },
    {
      "cell_type": "markdown",
      "metadata": {
        "colab_type": "text",
        "id": "pKZET4Pm7KFL"
      },
      "source": [
        "# **<font size=\"10\"><center>RAR/ZIP Your Files</center>**</font>\n",
        "\n",
        "---\n",
        "\n",
        "\n",
        "\n",
        "---\n",
        "\n",
        "\n",
        "\n"
      ]
    },
    {
      "cell_type": "markdown",
      "metadata": {
        "colab_type": "text",
        "id": "zpNkG4vz28HE"
      },
      "source": [
        "# **STEP 3 - Run the below Cells to compress your files into .Rar**\n",
        "\n",
        "\n",
        "---\n",
        "\n",
        "\n",
        "<img src=\"https://i.ibb.co/tK5Jhxs/output-onlinepngtools.png\" alt=\"output-onlinepngtools\" border=\"0\">"
      ]
    },
    {
      "cell_type": "code",
      "metadata": {
        "id": "FJdyYJEc3EJr",
        "colab_type": "code",
        "colab": {}
      },
      "source": [
        "# <= Click this cell to rar the folder\n",
        "\n",
        "!apt-get install rar"
      ],
      "execution_count": 0,
      "outputs": []
    },
    {
      "cell_type": "markdown",
      "metadata": {
        "colab_type": "text",
        "id": "AwzDMAcZ3Wks"
      },
      "source": [
        "*   First path in below cell - Your Rar File output Name (do not put .rar at the end. It will take it automatically)\n",
        "*   Second path in below cell - Google Drive file location of the files/folder which you want to Rar\n",
        "\n"
      ]
    },
    {
      "cell_type": "code",
      "metadata": {
        "id": "BcPWfDLq3LXr",
        "colab_type": "code",
        "colab": {}
      },
      "source": [
        "!rar a \"Folder Link\" "
      ],
      "execution_count": 0,
      "outputs": []
    },
    {
      "cell_type": "markdown",
      "metadata": {
        "colab_type": "text",
        "id": "rpg-0j7-36Xf"
      },
      "source": [
        "# **STEP 3 - Run the below cell to .zip some files**\n",
        "\n",
        "\n",
        "---\n",
        "<img src=\"https://i.ibb.co/Dg66pDB/156361082210525933.png\" alt=\"156361082210525933\" border=\"0\">"
      ]
    },
    {
      "cell_type": "markdown",
      "metadata": {
        "colab_type": "text",
        "id": "bOQJ_rMd4JOJ"
      },
      "source": [
        "*   First path in below cell - Your Zip output filename\n",
        "*   Second path in below cell - Google Drive file location of the files which you want to Zip\n",
        "\n"
      ]
    },
    {
      "cell_type": "code",
      "metadata": {
        "id": "W2FsS5y_xzX3",
        "colab_type": "code",
        "colab": {}
      },
      "source": [
        "!zip -r \"/content/drive/My Drive/Test.zip\" \"/content/drive/My Drive/Test.pdf\""
      ],
      "execution_count": 0,
      "outputs": []
    },
    {
      "cell_type": "markdown",
      "metadata": {
        "id": "tpdXw54ussxF",
        "colab_type": "text"
      },
      "source": [
        "\n",
        "## **Important note - After doing all the steps, please note that depending on your file size of the Zip and Rar files, it may take a while to show up in your Google Drive. Please be patient. Eventually, it will show up in your drive.**\n",
        "###**For larger files - it may take some time to show up in your Google Drive. Do not rerun the code if it doesn't show up fast. Just keep refreshing your Google Drive page to see if it shows up**\n",
        "###**For small files - it will show up quicker in your Google Drive. Just wait until it shows up. Just keep refreshing your page to see if it shows up**"
      ]
    }
  ]
}